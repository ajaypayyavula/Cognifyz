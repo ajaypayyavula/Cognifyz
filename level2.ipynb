{
 "cells": [
  {
   "cell_type": "code",
   "execution_count": 1,
   "id": "31e52afe-bc4c-48e0-9c08-ff87e31a38fe",
   "metadata": {},
   "outputs": [
    {
     "name": "stdin",
     "output_type": "stream",
     "text": [
      "Guess the number between (1-100):  50\n"
     ]
    },
    {
     "name": "stdout",
     "output_type": "stream",
     "text": [
      "Too high! Try again\n"
     ]
    },
    {
     "name": "stdin",
     "output_type": "stream",
     "text": [
      "Guess the number between (1-100):  40\n"
     ]
    },
    {
     "name": "stdout",
     "output_type": "stream",
     "text": [
      "Too high! Try again\n"
     ]
    },
    {
     "name": "stdin",
     "output_type": "stream",
     "text": [
      "Guess the number between (1-100):  20\n"
     ]
    },
    {
     "name": "stdout",
     "output_type": "stream",
     "text": [
      "Too low! Try again\n"
     ]
    },
    {
     "name": "stdin",
     "output_type": "stream",
     "text": [
      "Guess the number between (1-100):  30\n"
     ]
    },
    {
     "name": "stdout",
     "output_type": "stream",
     "text": [
      "Too low! Try again\n"
     ]
    },
    {
     "name": "stdin",
     "output_type": "stream",
     "text": [
      "Guess the number between (1-100):  35\n"
     ]
    },
    {
     "name": "stdout",
     "output_type": "stream",
     "text": [
      "Too high! Try again\n"
     ]
    },
    {
     "name": "stdin",
     "output_type": "stream",
     "text": [
      "Guess the number between (1-100):  34\n"
     ]
    },
    {
     "name": "stdout",
     "output_type": "stream",
     "text": [
      "Too high! Try again\n"
     ]
    },
    {
     "name": "stdin",
     "output_type": "stream",
     "text": [
      "Guess the number between (1-100):  32\n"
     ]
    },
    {
     "name": "stdout",
     "output_type": "stream",
     "text": [
      "Too high! Try again\n"
     ]
    },
    {
     "name": "stdin",
     "output_type": "stream",
     "text": [
      "Guess the number between (1-100):  31\n"
     ]
    },
    {
     "name": "stdout",
     "output_type": "stream",
     "text": [
      "You guessed the correct number\n"
     ]
    }
   ],
   "source": [
    "#level2\n",
    "#task1\n",
    "import random\n",
    "num = random.randint(1, 100)\n",
    "while True:\n",
    "    guess = int(input(\"Guess the number between (1-100): \"))\n",
    "    if guess>num:\n",
    "        print(\"Too high! Try again\")\n",
    "    elif guess<num:\n",
    "        print(\"Too low! Try again\")\n",
    "    else:\n",
    "        print(\"You guessed the correct number\")\n",
    "        break"
   ]
  },
  {
   "cell_type": "code",
   "execution_count": 2,
   "id": "bfac5f85-a7a7-4af8-a3d7-0a45b6457344",
   "metadata": {},
   "outputs": [
    {
     "name": "stdout",
     "output_type": "stream",
     "text": [
      "Welcome to the Number Guessing Game!\n"
     ]
    },
    {
     "name": "stdin",
     "output_type": "stream",
     "text": [
      "Enter the start of the range:  1\n",
      "Enter the end of the range:  50\n",
      "Guess the number between 1 and 50:  30\n"
     ]
    },
    {
     "name": "stdout",
     "output_type": "stream",
     "text": [
      "Too low! Try again.\n"
     ]
    },
    {
     "name": "stdin",
     "output_type": "stream",
     "text": [
      "Guess the number between 1 and 50:  40\n"
     ]
    },
    {
     "name": "stdout",
     "output_type": "stream",
     "text": [
      "Too low! Try again.\n"
     ]
    },
    {
     "name": "stdin",
     "output_type": "stream",
     "text": [
      "Guess the number between 1 and 50:  41\n"
     ]
    },
    {
     "name": "stdout",
     "output_type": "stream",
     "text": [
      "Too low! Try again.\n"
     ]
    },
    {
     "name": "stdin",
     "output_type": "stream",
     "text": [
      "Guess the number between 1 and 50:  43\n"
     ]
    },
    {
     "name": "stdout",
     "output_type": "stream",
     "text": [
      "Too high! Try again.\n"
     ]
    },
    {
     "name": "stdin",
     "output_type": "stream",
     "text": [
      "Guess the number between 1 and 50:  42\n"
     ]
    },
    {
     "name": "stdout",
     "output_type": "stream",
     "text": [
      "Correct! You guessed the correct number.\n"
     ]
    }
   ],
   "source": [
    "#level 2\n",
    "#task2\n",
    "import random\n",
    "print(\"Welcome to the Number Guessing Game!\")\n",
    "start = int(input(\"Enter the start of the range: \"))\n",
    "end = int(input(\"Enter the end of the range: \"))\n",
    "number = random.randint(start, end)\n",
    "attempts = 0\n",
    "while True:\n",
    "    guess = int(input(f\"Guess the number between {start} and {end}: \"))\n",
    "    attempts += 1\n",
    "    if guess > number:\n",
    "        print(\"Too high! Try again.\")\n",
    "    elif guess < number:\n",
    "        print(\"Too low! Try again.\")\n",
    "    else:\n",
    "        print(\"Correct! You guessed the correct number.\")\n",
    "        break\n"
   ]
  },
  {
   "cell_type": "code",
   "execution_count": 3,
   "id": "2cbc2966-3443-4e8f-99bc-6ff6c4f03b28",
   "metadata": {},
   "outputs": [
    {
     "name": "stdin",
     "output_type": "stream",
     "text": [
      "Enter a password to check its strength:  password@123\n"
     ]
    },
    {
     "name": "stdout",
     "output_type": "stream",
     "text": [
      "Moderate password \n"
     ]
    }
   ],
   "source": [
    "#level2\n",
    "#task3\n",
    "import string\n",
    "\n",
    "def check_password_strength(password):\n",
    "    length_ok = len(password) >= 8\n",
    "    has_digit = any(char.isdigit() for char in password)\n",
    "    has_upper = any(char.isupper() for char in password)\n",
    "    has_lower = any(char.islower() for char in password)\n",
    "    has_special = any(char in string.punctuation for char in password)\n",
    "    \n",
    "    if all([length_ok, has_digit, has_upper, has_lower, has_special]):\n",
    "        return \"Strong password \"\n",
    "    elif length_ok and (has_digit + has_upper + has_lower + has_special) >= 3:\n",
    "        return \"Moderate password \"\n",
    "    else:\n",
    "        return \"Weak password \"\n",
    "user_input = input(\"Enter a password to check its strength: \")\n",
    "print(check_password_strength(user_input))"
   ]
  },
  {
   "cell_type": "code",
   "execution_count": 4,
   "id": "c3b42be3-688f-453e-91af-7073d991cb76",
   "metadata": {},
   "outputs": [
    {
     "name": "stdin",
     "output_type": "stream",
     "text": [
      "Enter the number of terms for the Fibonacci sequence:  10\n"
     ]
    },
    {
     "name": "stdout",
     "output_type": "stream",
     "text": [
      "Fibonacci sequence:\n",
      "[0, 1, 1, 2, 3, 5, 8, 13, 21, 34]\n"
     ]
    }
   ],
   "source": [
    "#level2\n",
    "#task4\n",
    "def fibonacci_sequence(n):\n",
    "    a, b = 0, 1\n",
    "    sequence = []\n",
    "    for _ in range(n):\n",
    "        sequence.append(a)\n",
    "        a, b = b, a + b\n",
    "    return sequence\n",
    "num_terms = int(input(\"Enter the number of terms for the Fibonacci sequence: \"))\n",
    "fib_sequence = fibonacci_sequence(num_terms)\n",
    "print(\"Fibonacci sequence:\")\n",
    "print(fib_sequence)"
   ]
  },
  {
   "cell_type": "code",
   "execution_count": 5,
   "id": "22eb14f6-a36d-49c8-b271-758bc42bee14",
   "metadata": {},
   "outputs": [
    {
     "name": "stdin",
     "output_type": "stream",
     "text": [
      "Enter the filename:  sampletext.txt\n"
     ]
    },
    {
     "name": "stdout",
     "output_type": "stream",
     "text": [
      "a: 9\n",
      "adventures: 1\n",
      "aged: 1\n",
      "alive: 1\n",
      "all: 1\n",
      "also: 1\n",
      "ambiance: 1\n",
      "an: 2\n",
      "and: 10\n",
      "any: 1\n",
      "appreciation: 1\n",
      "around: 1\n",
      "as: 1\n",
      "believed: 1\n",
      "beyond: 1\n",
      "book: 1\n",
      "books: 1\n",
      "bustling: 1\n",
      "but: 2\n",
      "calling: 1\n",
      "casting: 1\n",
      "centuries: 1\n",
      "children: 1\n",
      "city: 2\n",
      "collection: 1\n",
      "come: 1\n",
      "created: 1\n",
      "curiosity: 1\n",
      "daily: 1\n",
      "dedicated: 1\n",
      "deeper: 1\n",
      "despite: 1\n",
      "digital: 1\n",
      "distant: 1\n",
      "dragons: 1\n",
      "during: 1\n",
      "eager: 1\n",
      "elderly: 1\n",
      "entire: 1\n",
      "every: 2\n",
      "fantasy: 1\n",
      "flame: 1\n",
      "flipping: 1\n",
      "for: 4\n",
      "forgotten: 1\n",
      "from: 2\n",
      "gathered: 1\n",
      "generations: 1\n",
      "gentleman: 1\n",
      "golden: 1\n",
      "had: 1\n",
      "he: 1\n",
      "heart: 1\n",
      "held: 1\n",
      "heroes: 1\n",
      "his: 1\n",
      "history: 1\n",
      "hour: 1\n",
      "hues: 1\n",
      "imaginations: 1\n",
      "immerse: 1\n",
      "in: 4\n",
      "inspiration: 1\n",
      "intertwined: 1\n",
      "into: 1\n",
      "it: 1\n",
      "its: 2\n",
      "job: 1\n",
      "journey: 1\n",
      "just: 2\n",
      "keep: 1\n",
      "knowledge: 2\n",
      "lands: 1\n",
      "left: 1\n",
      "librarian: 1\n",
      "library: 4\n",
      "life: 2\n",
      "listen: 1\n",
      "magical: 1\n",
      "manuscripts: 1\n",
      "media: 1\n",
      "mr: 2\n",
      "named: 1\n",
      "newfound: 1\n",
      "not: 2\n",
      "of: 9\n",
      "old: 1\n",
      "other: 1\n",
      "pages: 2\n",
      "paper: 1\n",
      "people: 1\n",
      "place: 1\n",
      "preserving: 1\n",
      "proud: 1\n",
      "quiet: 1\n",
      "realm: 1\n",
      "remained: 1\n",
      "rise: 1\n",
      "sanctuary: 1\n",
      "scrolls: 1\n",
      "seeking: 1\n",
      "set: 1\n",
      "smell: 1\n",
      "solitude: 1\n",
      "sound: 1\n",
      "spark: 1\n",
      "stainedglass: 1\n",
      "stood: 1\n",
      "story: 2\n",
      "sun: 1\n",
      "tales: 1\n",
      "tall: 1\n",
      "technology: 1\n",
      "testament: 1\n",
      "that: 1\n",
      "the: 16\n",
      "their: 1\n",
      "themselves: 1\n",
      "thompson: 2\n",
      "those: 1\n",
      "through: 2\n",
      "time: 1\n",
      "times: 1\n",
      "to: 7\n",
      "transformed: 1\n",
      "unlike: 1\n",
      "vast: 1\n",
      "visited: 1\n",
      "visitor: 1\n",
      "walks: 1\n",
      "was: 1\n",
      "where: 1\n",
      "wildest: 1\n",
      "windows: 1\n",
      "wisdom: 1\n",
      "with: 1\n",
      "within: 1\n",
      "word: 1\n",
      "written: 1\n",
      "â: 1\n"
     ]
    }
   ],
   "source": [
    "#level2\n",
    "#task5\n",
    "def count_words_in_file(filename):\n",
    "    word_count = {}\n",
    "    with open(filename, 'r') as file:\n",
    "        for line in file:\n",
    "            words = line.strip().lower().split()\n",
    "            for word in words:\n",
    "                # Remove punctuation from each word\n",
    "                word = ''.join(char for char in word if char.isalnum())\n",
    "                if word:\n",
    "                    word_count[word] = word_count.get(word, 0) + 1\n",
    "    for word in sorted(word_count):\n",
    "        print(f\"{word}: {word_count[word]}\")\n",
    "        \n",
    "filename = input(\"Enter the filename: \")\n",
    "count_words_in_file(filename)\n"
   ]
  },
  {
   "cell_type": "code",
   "execution_count": null,
   "id": "60f7325a-b2b6-4f44-88b4-199c8558ebb9",
   "metadata": {},
   "outputs": [],
   "source": []
  }
 ],
 "metadata": {
  "kernelspec": {
   "display_name": "Python 3 (ipykernel)",
   "language": "python",
   "name": "python3"
  },
  "language_info": {
   "codemirror_mode": {
    "name": "ipython",
    "version": 3
   },
   "file_extension": ".py",
   "mimetype": "text/x-python",
   "name": "python",
   "nbconvert_exporter": "python",
   "pygments_lexer": "ipython3",
   "version": "3.12.7"
  }
 },
 "nbformat": 4,
 "nbformat_minor": 5
}
