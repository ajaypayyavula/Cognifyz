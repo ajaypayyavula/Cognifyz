{
 "cells": [
  {
   "cell_type": "code",
   "execution_count": 1,
   "id": "23c54df5-dc5a-487d-84d8-26be95453e9c",
   "metadata": {},
   "outputs": [
    {
     "name": "stdin",
     "output_type": "stream",
     "text": [
      "Enter a string cognifyz\n"
     ]
    },
    {
     "name": "stdout",
     "output_type": "stream",
     "text": [
      "reversed string: zyfingoc\n"
     ]
    }
   ],
   "source": [
    "#level1 \n",
    "#task1\n",
    "def reverse_string(s):\n",
    "    return s[::-1]\n",
    "\n",
    "# Example usage:\n",
    "input_str = input(\"Enter a string\")\n",
    "reversed_str = reverse_string(input_str)\n",
    "print(\"reversed string:\",reversed_str) "
   ]
  },
  {
   "cell_type": "code",
   "execution_count": 2,
   "id": "596e6994-731d-40f7-b35b-d4243849642a",
   "metadata": {},
   "outputs": [
    {
     "name": "stdin",
     "output_type": "stream",
     "text": [
      "Enter temperature:  30\n",
      "Enter unit (C/F):  c\n"
     ]
    },
    {
     "name": "stdout",
     "output_type": "stream",
     "text": [
      "30.0°C = 86.00°F\n"
     ]
    }
   ],
   "source": [
    "#level1 \n",
    "#task2\n",
    "temp = float(input(\"Enter temperature: \"))\n",
    "unit = input(\"Enter unit (C/F): \").strip().upper()\n",
    "\n",
    "if unit == 'C':\n",
    "    convert=(temp*9/5)+32\n",
    "    print(f\"{temp}°C = {convert:.2f}°F\")\n",
    "elif unit == 'F':\n",
    "    convert=(temp-32)*5/9\n",
    "    print(f\"{temp}°F = {convert:.2f}°C\")\n",
    "else:\n",
    "    print(\"Invalid unit. Use 'C' or 'F'.\")"
   ]
  },
  {
   "cell_type": "code",
   "execution_count": 3,
   "id": "80b80750-59d6-418f-a432-48d2ac6be982",
   "metadata": {},
   "outputs": [
    {
     "name": "stdin",
     "output_type": "stream",
     "text": [
      "enter an email address: mail@123\n"
     ]
    },
    {
     "name": "stdout",
     "output_type": "stream",
     "text": [
      "Invalid email address.\n"
     ]
    }
   ],
   "source": [
    "#level 1\n",
    "#task 3\n",
    "def is_valid_email(email):\n",
    "    if \"@\" not in email:\n",
    "        return False\n",
    "    \n",
    "    username,domain= email.split(\"@\")\n",
    "    \n",
    "    if not username or not domain:\n",
    "        return False\n",
    "    if \".\" not in domain:\n",
    "        return False\n",
    "    if domain.startswith(\".\") or domain.endswith(\".\"):\n",
    "        return False\n",
    "    \n",
    "    return True\n",
    "email=input(\"enter an email address:\")\n",
    "if is_valid_email(email):\n",
    "    print(\"Valid email address.\")\n",
    "else:\n",
    "    print(\"Invalid email address.\") "
   ]
  },
  {
   "cell_type": "code",
   "execution_count": 4,
   "id": "deb4cf79-1290-4d34-8fb6-63de5cdbe2ea",
   "metadata": {},
   "outputs": [
    {
     "name": "stdin",
     "output_type": "stream",
     "text": [
      "Enter first number:  3\n",
      "Enter operator (+, -, *, /, %):  +\n",
      "Enter second number:  7\n"
     ]
    },
    {
     "name": "stdout",
     "output_type": "stream",
     "text": [
      "Result= 10.0\n"
     ]
    }
   ],
   "source": [
    "#level 1\n",
    "#task4\n",
    "num1 = float(input(\"Enter first number: \"))\n",
    "operator = input(\"Enter operator (+, -, *, /, %): \")\n",
    "num2 = float(input(\"Enter second number: \"))\n",
    "\n",
    "if operator == '+':\n",
    "    result=num1+num2\n",
    "    print(\"Result=\",result)\n",
    "elif operator == '-':\n",
    "    result=num1-num2\n",
    "    print(\"Result=\",result)\n",
    "elif operator == '*':\n",
    "    result=num1*num2\n",
    "    print(\"Result=\",result)\n",
    "elif operator == '/':\n",
    "    result=num1/num2\n",
    "    if num2 != 0:\n",
    "        print(\"Result=\",result)\n",
    "    else:\n",
    "        print(\"Error: Division by zero\")\n",
    "elif operator == '%':\n",
    "    result=num1%num2\n",
    "    if num2 != 0:\n",
    "        print(\"Result=\",result)\n",
    "    else:\n",
    "        print(\"Error: Modulo by zero\")\n",
    "else:\n",
    "    print(\"Invalid operator\")\n"
   ]
  },
  {
   "cell_type": "code",
   "execution_count": 5,
   "id": "96f91832-8e64-484b-8d80-8d515ee1c0c0",
   "metadata": {},
   "outputs": [
    {
     "name": "stdin",
     "output_type": "stream",
     "text": [
      "Enter a word or phrase:  wow\n"
     ]
    },
    {
     "name": "stdout",
     "output_type": "stream",
     "text": [
      "\"wow\" is a palindrome.\n"
     ]
    }
   ],
   "source": [
    "#level1 \n",
    "#task5\n",
    "def is_palindrome(text):\n",
    "    s = text.replace(\" \", \"\").lower()\n",
    "    return s == s[::-1]\n",
    "\n",
    "user_input = input(\"Enter a word or phrase: \")\n",
    "\n",
    "if is_palindrome(user_input):\n",
    "    print(f'\"{user_input}\" is a palindrome.')\n",
    "else:\n",
    "    print(f'\"{user_input}\" is not a palindrome.')"
   ]
  },
  {
   "cell_type": "code",
   "execution_count": null,
   "id": "250f9799-352e-43d9-9efe-0bb1143bd65f",
   "metadata": {},
   "outputs": [],
   "source": []
  }
 ],
 "metadata": {
  "kernelspec": {
   "display_name": "Python 3 (ipykernel)",
   "language": "python",
   "name": "python3"
  },
  "language_info": {
   "codemirror_mode": {
    "name": "ipython",
    "version": 3
   },
   "file_extension": ".py",
   "mimetype": "text/x-python",
   "name": "python",
   "nbconvert_exporter": "python",
   "pygments_lexer": "ipython3",
   "version": "3.12.7"
  }
 },
 "nbformat": 4,
 "nbformat_minor": 5
}
