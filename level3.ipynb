{
 "cells": [
  {
   "cell_type": "code",
   "execution_count": 2,
   "id": "ce00260b-ff27-4c8e-b55f-4bf338224bbc",
   "metadata": {},
   "outputs": [
    {
     "name": "stdout",
     "output_type": "stream",
     "text": [
      "Note: you may need to restart the kernel to use updated packages.Requirement already satisfied: requests in c:\\users\\anitha\\appdata\\roaming\\python\\python312\\site-packages (2.31.0)\n",
      "Requirement already satisfied: beautifulsoup4 in c:\\users\\anitha\\appdata\\roaming\\python\\python312\\site-packages (4.12.3)\n",
      "Requirement already satisfied: charset-normalizer<4,>=2 in c:\\users\\anitha\\appdata\\roaming\\python\\python312\\site-packages (from requests) (3.4.0)\n",
      "Requirement already satisfied: idna<4,>=2.5 in c:\\users\\anitha\\appdata\\roaming\\python\\python312\\site-packages (from requests) (3.10)\n",
      "Requirement already satisfied: urllib3<3,>=1.21.1 in c:\\users\\anitha\\appdata\\roaming\\python\\python312\\site-packages (from requests) (2.2.3)\n",
      "Requirement already satisfied: certifi>=2017.4.17 in c:\\users\\anitha\\appdata\\roaming\\python\\python312\\site-packages (from requests) (2024.8.30)\n",
      "Requirement already satisfied: soupsieve>1.2 in c:\\users\\anitha\\appdata\\roaming\\python\\python312\\site-packages (from beautifulsoup4) (2.6)\n",
      "\n"
     ]
    },
    {
     "name": "stderr",
     "output_type": "stream",
     "text": [
      "\n",
      "[notice] A new release of pip is available: 25.0.1 -> 25.1.1\n",
      "[notice] To update, run: python.exe -m pip install --upgrade pip\n"
     ]
    }
   ],
   "source": [
    "pip install requests beautifulsoup4"
   ]
  },
  {
   "cell_type": "code",
   "execution_count": 3,
   "id": "024275f3-dcb8-414f-b827-cf5358b28b9d",
   "metadata": {},
   "outputs": [
    {
     "name": "stdout",
     "output_type": "stream",
     "text": [
      "Top Hacker News Stories:\n",
      "\n",
      "1. Hurl: Run and test HTTP requests with plain text\n",
      "   Link: https://github.com/Orange-OpenSource/hurl\n",
      "\n",
      "2. github.com/orange-opensource\n",
      "   Link: from?site=github.com/orange-opensource\n",
      "\n",
      "3. Show HN: I wrote a new BitTorrent tracker in Elixir\n",
      "   Link: https://github.com/Dahrkael/ExTracker\n",
      "\n",
      "4. github.com/dahrkael\n",
      "   Link: from?site=github.com/dahrkael\n",
      "\n",
      "5. Infinite Mac OS X\n",
      "   Link: https://blog.persistent.info/2025/03/infinite-mac-os-x.html\n",
      "\n",
      "6. persistent.info\n",
      "   Link: from?site=persistent.info\n",
      "\n",
      "7. FedFlix — Public Domain Stock Footage Library\n",
      "   Link: https://public.resource.org/ntis.gov/index.html\n",
      "\n",
      "8. resource.org\n",
      "   Link: from?site=resource.org\n",
      "\n",
      "9. Show HN: Tool to Automatically Create Organized Commits for PRs\n",
      "   Link: https://github.com/edverma/git-smart-squash\n",
      "\n",
      "10. github.com/edverma\n",
      "   Link: from?site=github.com/edverma\n",
      "\n"
     ]
    }
   ],
   "source": [
    "#level3\n",
    "#task1\n",
    "import requests\n",
    "from bs4 import BeautifulSoup\n",
    "\n",
    "def fetch_hackernews_top():\n",
    "    try:\n",
    "        res = requests.get(\"https://news.ycombinator.com/\")\n",
    "        res.raise_for_status()\n",
    "        soup = BeautifulSoup(res.text, \"html.parser\")\n",
    "\n",
    "        stories = [\n",
    "            (a.text.strip(), a['href'])\n",
    "            for a in soup.select(\"td.title a\")\n",
    "            if a.text != \"More\"\n",
    "        ]\n",
    "\n",
    "        print(\"Top Hacker News Stories:\\n\")\n",
    "        for i, (title, link) in enumerate(stories[:10], 1):\n",
    "            print(f\"{i}. {title}\\n   Link: {link}\\n\")\n",
    "\n",
    "    except requests.RequestException as e:\n",
    "        print(\"Error fetching the webpage:\", e)\n",
    "\n",
    "if __name__ == \"__main__\":\n",
    "    fetch_hackernews_top()\n"
   ]
  },
  {
   "cell_type": "code",
   "execution_count": 4,
   "id": "940c1b53-38ed-4523-b6a1-0e96aabd7b57",
   "metadata": {},
   "outputs": [
    {
     "name": "stdout",
     "output_type": "stream",
     "text": [
      "Requirement already satisfied: pandas in c:\\users\\anitha\\appdata\\roaming\\python\\python312\\site-packages (2.2.2)\n",
      "Requirement already satisfied: plotly in c:\\chinnu work\\anaconda3\\lib\\site-packages (5.24.1)\n",
      "Requirement already satisfied: numpy>=1.26.0 in c:\\users\\anitha\\appdata\\roaming\\python\\python312\\site-packages (from pandas) (1.26.4)\n",
      "Requirement already satisfied: python-dateutil>=2.8.2 in c:\\users\\anitha\\appdata\\roaming\\python\\python312\\site-packages (from pandas) (2.9.0.post0)\n",
      "Requirement already satisfied: pytz>=2020.1 in c:\\users\\anitha\\appdata\\roaming\\python\\python312\\site-packages (from pandas) (2024.2)\n",
      "Requirement already satisfied: tzdata>=2022.7 in c:\\users\\anitha\\appdata\\roaming\\python\\python312\\site-packages (from pandas) (2024.2)\n",
      "Requirement already satisfied: tenacity>=6.2.0 in c:\\users\\anitha\\appdata\\roaming\\python\\python312\\site-packages (from plotly) (8.5.0)\n",
      "Requirement already satisfied: packaging in c:\\users\\anitha\\appdata\\roaming\\python\\python312\\site-packages (from plotly) (24.1)\n",
      "Requirement already satisfied: six>=1.5 in c:\\users\\anitha\\appdata\\roaming\\python\\python312\\site-packages (from python-dateutil>=2.8.2->pandas) (1.16.0)\n",
      "Note: you may need to restart the kernel to use updated packages.\n"
     ]
    },
    {
     "name": "stderr",
     "output_type": "stream",
     "text": [
      "\n",
      "[notice] A new release of pip is available: 25.0.1 -> 25.1.1\n",
      "[notice] To update, run: python.exe -m pip install --upgrade pip\n"
     ]
    }
   ],
   "source": [
    "pip install pandas plotly"
   ]
  },
  {
   "cell_type": "code",
   "execution_count": 13,
   "id": "6fae8d40-0590-430c-82d0-2ed89e49e9bb",
   "metadata": {},
   "outputs": [
    {
     "name": "stdout",
     "output_type": "stream",
     "text": [
      "\n",
      "Dataset loaded successfully!\n",
      "Shape: (32, 5)\n",
      "Columns: ['Name', 'Age', 'Salary', 'Department', 'Years_at_Company']\n",
      "\n",
      "Choose a plot type:\n",
      "1. Scatter Plot\n",
      "2. Histogram\n",
      "3. Box Plot\n",
      "4. Line Plot\n",
      "5. Exit\n"
     ]
    },
    {
     "name": "stdin",
     "output_type": "stream",
     "text": [
      "Enter your choice (1-5):  3\n"
     ]
    },
    {
     "name": "stdout",
     "output_type": "stream",
     "text": [
      "\n",
      "--- Box Plot ---\n",
      "Available columns: ['Name', 'Age', 'Salary', 'Department', 'Years_at_Company']\n"
     ]
    },
    {
     "name": "stdin",
     "output_type": "stream",
     "text": [
      "Enter column name for Y-axis:  Age\n",
      "Enter column name for grouping (press Enter to skip):  \n"
     ]
    },
    {
     "name": "stdout",
     "output_type": "stream",
     "text": [
      "Error generating box plot: name 'px' is not defined\n",
      "\n",
      "Choose a plot type:\n",
      "1. Scatter Plot\n",
      "2. Histogram\n",
      "3. Box Plot\n",
      "4. Line Plot\n",
      "5. Exit\n"
     ]
    },
    {
     "name": "stdin",
     "output_type": "stream",
     "text": [
      "Enter your choice (1-5):  5\n"
     ]
    },
    {
     "name": "stdout",
     "output_type": "stream",
     "text": [
      "Exiting program.\n"
     ]
    }
   ],
   "source": [
    "##### level3\n",
    "#task2\n",
    "import pandas as pd\n",
    "import plotly.express as px5\n",
    "\n",
    "def load_data():\n",
    "    filename = \"E:work/sampledataset.txt\"\n",
    "    try:\n",
    "        df = pd.read_csv(filename)\n",
    "        print(\"\\nDataset loaded successfully!\")\n",
    "        print(f\"Shape: {df.shape}\")\n",
    "        print(\"Columns:\", list(df.columns))\n",
    "        return df\n",
    "    except Exception as e:\n",
    "        print(\"Error loading file:\", e)\n",
    "        return None\n",
    "\n",
    "def plot_scatter(df):\n",
    "    print(\"\\n--- Scatter Plot ---\")\n",
    "    print(\"Available columns:\", list(df.columns))\n",
    "    x_col = input(\"Enter column name for X-axis: \")\n",
    "    y_col = input(\"Enter column name for Y-axis: \")\n",
    "\n",
    "    try:\n",
    "        fig = px.scatter(df, x=x_col, y=y_col, title=f\"Scatter plot of {y_col} vs {x_col}\")\n",
    "        fig.show()\n",
    "    except Exception as e:\n",
    "        print(\"Error generating scatter plot:\", e)\n",
    "\n",
    "def plot_histogram(df):\n",
    "    print(\"\\n--- Histogram ---\")\n",
    "    print(\"Available columns:\", list(df.columns))\n",
    "    col = input(\"Enter column name for histogram: \")\n",
    "\n",
    "    try:\n",
    "        fig = px.histogram(df, x=col, title=f\"Histogram of {col}\")\n",
    "        fig.show()\n",
    "    except Exception as e:\n",
    "        print(\"Error generating histogram:\", e)\n",
    "\n",
    "def plot_boxplot(df):\n",
    "    print(\"\\n--- Box Plot ---\")\n",
    "    print(\"Available columns:\", list(df.columns))\n",
    "    y_col = input(\"Enter column name for Y-axis: \")\n",
    "    x_col = input(\"Enter column name for grouping (press Enter to skip): \")\n",
    "\n",
    "    try:\n",
    "        if x_col.strip() == \"\":\n",
    "            fig = px.box(df, y=y_col, title=f\"Box plot of {y_col}\")\n",
    "        else:\n",
    "            fig = px.box(df, x=x_col, y=y_col, title=f\"Box plot of {y_col} grouped by {x_col}\")\n",
    "        fig.show()\n",
    "    except Exception as e:\n",
    "        print(\"Error generating box plot:\", e)\n",
    "\n",
    "def plot_line(df):\n",
    "    print(\"\\n--- Line Plot ---\")\n",
    "    print(\"Available columns:\", list(df.columns))\n",
    "    x_col = input(\"Enter column name for X-axis: \")\n",
    "    y_col = input(\"Enter column name for Y-axis: \")\n",
    "\n",
    "    try:\n",
    "        fig = px.line(df, x=x_col, y=y_col, title=f\"Line plot of {y_col} vs {x_col}\")\n",
    "        fig.show()\n",
    "    except Exception as e:\n",
    "        print(\"Error generating line plot:\", e)\n",
    "\n",
    "def main():\n",
    "    df = load_data()\n",
    "    if df is None:\n",
    "        return\n",
    "\n",
    "    while True:\n",
    "        print(\"\\nChoose a plot type:\")\n",
    "        print(\"1. Scatter Plot\")\n",
    "        print(\"2. Histogram\")\n",
    "        print(\"3. Box Plot\")\n",
    "        print(\"4. Line Plot\")\n",
    "        print(\"5. Exit\")\n",
    "\n",
    "        choice = input(\"Enter your choice (1-5): \")\n",
    "\n",
    "        if choice == \"1\":\n",
    "            plot_scatter(df)\n",
    "        elif choice == \"2\":\n",
    "            plot_histogram(df)\n",
    "        elif choice == \"3\":\n",
    "            plot_boxplot(df)\n",
    "        elif choice == \"4\":\n",
    "            plot_line(df)\n",
    "        elif choice == \"5\":\n",
    "            print(\"Exiting program.\")\n",
    "            break\n",
    "        else:\n",
    "            print(\"Invalid choice, please enter 1-5.\")\n",
    "\n",
    "if __name__ == \"__main__\":\n",
    "    main()"
   ]
  },
  {
   "cell_type": "code",
   "execution_count": 17,
   "id": "3b43a599-8f08-4b63-9ab1-3be30eab1ace",
   "metadata": {},
   "outputs": [
    {
     "name": "stdin",
     "output_type": "stream",
     "text": [
      "Enter the source folder path:  C:/TestFilesCheck\n",
      "Enter the destination folder path:  C:/OrganizedFilesCheck\n",
      "Enter filename prefix (default 'File'):  TestFiles\n"
     ]
    },
    {
     "name": "stdout",
     "output_type": "stream",
     "text": [
      "Found 4 files to organize.\n",
      "Moved: TestFile_001.csv -> C:/OrganizedFilesCheck\\2025\\06\\TestFiles_001.csv\n",
      "Moved: TestFile_002.docx -> C:/OrganizedFilesCheck\\2025\\06\\TestFiles_002.docx\n",
      "Moved: TestFile_003.txt -> C:/OrganizedFilesCheck\\2025\\06\\TestFiles_003.txt\n",
      "Moved: TestFile_004.pdf -> C:/OrganizedFilesCheck\\2025\\06\\TestFiles_004.pdf\n",
      "File organization complete.\n"
     ]
    }
   ],
   "source": [
    "#level3\n",
    "#task3\n",
    "import os\n",
    "import shutil\n",
    "from datetime import datetime\n",
    "\n",
    "def organize_files_by_date(source_folder, dest_folder, prefix=\"File\"):\n",
    "    if not os.path.exists(dest_folder):\n",
    "        os.makedirs(dest_folder)\n",
    "\n",
    "    files = [f for f in os.listdir(source_folder) if os.path.isfile(os.path.join(source_folder, f))]\n",
    "    print(f\"Found {len(files)} files to organize.\")\n",
    "\n",
    "    for i, filename in enumerate(files, 1):\n",
    "        file_path = os.path.join(source_folder, filename)\n",
    "\n",
    "        # Get last modification time and convert to year/month\n",
    "        mod_time = os.path.getmtime(file_path)\n",
    "        mod_datetime = datetime.fromtimestamp(mod_time)\n",
    "        year = mod_datetime.strftime(\"%Y\")\n",
    "        month = mod_datetime.strftime(\"%m\")\n",
    "\n",
    "        # Create destination directory path (e.g., dest_folder/2025/06)\n",
    "        new_dir = os.path.join(dest_folder, year, month)\n",
    "        os.makedirs(new_dir, exist_ok=True)\n",
    "\n",
    "        # Create new filename with prefix and index (keep original extension)\n",
    "        ext = os.path.splitext(filename)[1]\n",
    "        new_filename = f\"{prefix}_{i:03d}{ext}\"\n",
    "        new_file_path = os.path.join(new_dir, new_filename)\n",
    "\n",
    "        # Move and rename the file\n",
    "        shutil.move(file_path, new_file_path)\n",
    "\n",
    "        print(f\"Moved: {filename} -> {new_file_path}\")\n",
    "\n",
    "    print(\"File organization complete.\")\n",
    "\n",
    "if __name__ == \"__main__\":\n",
    "    source = input(\"Enter the source folder path: \").strip()\n",
    "    destination = input(\"Enter the destination folder path: \").strip()\n",
    "    prefix = input(\"Enter filename prefix (default 'File'): \").strip() or \"File\"\n",
    "\n",
    "    organize_files_by_date(source, destination, prefix)\n",
    "\n"
   ]
  },
  {
   "cell_type": "code",
   "execution_count": null,
   "id": "4ff91119-3bdd-4490-930d-b7f85c97855e",
   "metadata": {},
   "outputs": [],
   "source": []
  }
 ],
 "metadata": {
  "kernelspec": {
   "display_name": "Python 3 (ipykernel)",
   "language": "python",
   "name": "python3"
  },
  "language_info": {
   "codemirror_mode": {
    "name": "ipython",
    "version": 3
   },
   "file_extension": ".py",
   "mimetype": "text/x-python",
   "name": "python",
   "nbconvert_exporter": "python",
   "pygments_lexer": "ipython3",
   "version": "3.12.7"
  }
 },
 "nbformat": 4,
 "nbformat_minor": 5
}
